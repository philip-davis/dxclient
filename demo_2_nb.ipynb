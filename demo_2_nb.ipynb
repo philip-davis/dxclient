{
 "cells": [
  {
   "cell_type": "markdown",
   "id": "1b1dfa45-1362-4208-96b2-fc64606940ad",
   "metadata": {},
   "source": [
    "# Demo 2: Integrate and Analyze\n",
    "This demo run a user-specified analysis that takes GDDP data descriptors and user-provided data as arguments. DataSpaces downloads any necessary data and runs the user-provided function. Finally, the result is returned to the user."
   ]
  },
  {
   "cell_type": "code",
   "execution_count": 1,
   "id": "045117e8-c6e5-4376-bf12-90311ac544fd",
   "metadata": {},
   "outputs": [],
   "source": [
    "from dx_interface import DXInterface\n",
    "from wet_bulb import pressurefromelev\n",
    "import netCDF4 as nc\n",
    "from scipy.interpolate import RegularGridInterpolator\n",
    "import numpy as np"
   ]
  },
  {
   "cell_type": "markdown",
   "id": "94306af0-f7f6-41b9-9981-4b7850c20f53",
   "metadata": {},
   "source": [
    "Initialize the data interface to a well-known socket."
   ]
  },
  {
   "cell_type": "code",
   "execution_count": 2,
   "id": "85864521-6ae1-4d44-8a94-db835703f5f5",
   "metadata": {},
   "outputs": [],
   "source": [
    "client = DXInterface('20.84.58.28:8000')"
   ]
  },
  {
   "cell_type": "markdown",
   "id": "f7dce632-54a1-468f-a02b-1bb84031c9cf",
   "metadata": {},
   "source": [
    "Compute time-independent air pressure values as a function of elevation."
   ]
  },
  {
   "cell_type": "code",
   "execution_count": 3,
   "id": "48dd09ee-f123-437e-805b-f31ce8726013",
   "metadata": {},
   "outputs": [],
   "source": [
    "f=nc.Dataset('elev_721x1440.nc'); #geopotential\n",
    "z=f['z'][:,:,:]/9.81;z_orig=z[0,:,:]; #converted to meters, centered on 180W\n",
    "lat_cur=np.linspace(-90,90,721); #because elev data file is 721x1440\n",
    "lon_cur=np.linspace(-180,180,1440);\n",
    "lat_des=np.linspace(-90,90,600)\n",
    "lon_des=np.linspace(-180,180,1440);\n",
    "interp = RegularGridInterpolator((lat_cur, lon_cur), z_orig,bounds_error=False,fill_value=None);\n",
    "X,Y = np.meshgrid(lat_des,lon_des,indexing='ij')\n",
    "z_interp=interp((X,Y))\n",
    "psfc_chunk=pressurefromelev(z_interp[:,:]);\n",
    "pressure = psfc_chunk"
   ]
  },
  {
   "cell_type": "markdown",
   "id": "27752dc2-4453-4d11-9d51-f3cad8404095",
   "metadata": {},
   "source": [
    "Write the user-computed pressure data to DataSpaces, with a projection and resolution matching GDDP data. These data will be available for download or any future computations."
   ]
  },
  {
   "cell_type": "code",
   "execution_count": 4,
   "id": "4baa53a3-28ae-4134-b0f1-859cb18b9d1e",
   "metadata": {},
   "outputs": [],
   "source": [
    "client.write(variable = 'pressure',\n",
    "\t    model = 'mymodel',\n",
    "\t    geo_resolution = (0.25,0.25),\n",
    "        projection = 'wgs84',\n",
    "        geo_offset = (-60.0, -180.0),\n",
    "\t    data = pressure)"
   ]
  },
  {
   "cell_type": "markdown",
   "id": "3b282b04-0630-4bff-addd-8fd2fd0b829c",
   "metadata": {},
   "source": [
    "Define a function to be run on data in the DataSpaces staging server. `HeatIndex` takes three N-D arrays as arguments, and runs a vectorized kernel element-wise on these arrays. This highlights the pattern of running an element-wise kernel, but any operation performed upon a tuple of N-D arrays is supported. There is no required return value format."
   ]
  },
  {
   "cell_type": "code",
   "execution_count": 6,
   "id": "45cdacc5-e8bf-42b8-9032-057afd9c4255",
   "metadata": {},
   "outputs": [],
   "source": [
    "def HeatIndex(t, p, h):\n",
    "        def foo(tf, v):\n",
    "            return tf * v\n",
    "        def HeatIndexKernel(t1, p1, h1):\n",
    "            return(foo(t1*p1, h1))\n",
    "        import numpy\n",
    "        HeatIndexV = numpy.vectorize(HeatIndexKernel)\n",
    "        return(HeatIndexV(t, p, h))"
   ]
  },
  {
   "cell_type": "markdown",
   "id": "d14ebc50-4df7-4024-9f0f-f32f46d7a116",
   "metadata": {},
   "source": [
    "Specify an argument list to be used for instantiating `HeatIndex`. The first and last argument specify data to be downloaded from Planetary Comptuer (or loaded from the DataSpaces cache, if available). The middle argument is the previously uploaded pressure data. "
   ]
  },
  {
   "cell_type": "code",
   "execution_count": 5,
   "id": "fdf0ffa4-5beb-43e0-9771-fc445c7ef24b",
   "metadata": {},
   "outputs": [],
   "source": [
    "argT = DXInterface.build_arg(source = 'planetary-gddp',\n",
    "\t\tvariable = 'tas',\n",
    "\t\tmodel = 'ACCESS-ESM1-5',\n",
    "        start_date = '1982-11-28',\n",
    "        end_date = '1982-11-29',\n",
    "        geo_lb = (38.9,-77.0),\n",
    "        geo_ub = (40.7,-74.0))\n",
    "argP = DXInterface.build_arg(source = 'local',\n",
    "        variable = 'pressure',\n",
    "        model = 'mymodel',\n",
    "        geo_lb = (38.9,-77.0),\n",
    "        geo_ub = (40.7,-74.0))\n",
    "argH = DXInterface.build_arg(source = 'planetary-gddp',\n",
    "        variable = 'huss',\n",
    "        model = 'ACCESS-ESM1-5',\n",
    "        start_date = '1982-11-28',\n",
    "        end_date = '1982-11-29',\n",
    "        geo_lb = (38.9,-77.0),\n",
    "        geo_ub = (40.7,-74.0))"
   ]
  },
  {
   "cell_type": "code",
   "execution_count": null,
   "id": "4b85de09-ba89-472f-9bc5-08740fe1fc4a",
   "metadata": {},
   "outputs": [],
   "source": [
    "Remotely execute `HeatIndex` in DataSpaces. The Dat"
   ]
  },
  {
   "cell_type": "code",
   "execution_count": 7,
   "id": "e6840efd-7908-4184-8274-759f3bd03416",
   "metadata": {},
   "outputs": [
    {
     "name": "stdout",
     "output_type": "stream",
     "text": [
      "[[[38889.28127712 39212.85871056 38807.02065091 38504.72922208\n",
      "   37683.30568699 37609.37981798 38406.24723223 38878.06069059\n",
      "   38870.64759835 40246.09822265 40681.9028031  31034.08453625\n",
      "   37268.57844765]\n",
      "  [36483.24317631 37968.86408037 38164.7865609  37267.78717075\n",
      "   37218.24057993 37101.2146475  37689.37289099 38125.61835493\n",
      "   38468.37294588 39186.51638512 38455.40987325 36785.64680145\n",
      "   35523.12045746]\n",
      "  [38301.27022088 37687.41002838 37362.61028688 37207.02139914\n",
      "   36928.433962   36747.38163183 37899.0223677  38908.83295487\n",
      "   38400.38548756 38979.78546854 38357.3168261  38563.09895008\n",
      "   38993.05618419]\n",
      "  [36863.32890374 37958.49321024 36450.39435811 36154.89018729\n",
      "   36238.81905727 36208.58558771 37386.87192959 37427.67045563\n",
      "   36399.63563548 37205.54351108 37824.28990322 37410.41407359\n",
      "   38043.93528295]\n",
      "  [31717.44559464 31788.09525367 32834.81571647 34807.22411432\n",
      "   36235.34291266 34584.2854698  33689.50270051 33381.4413144\n",
      "   33634.67565547 35477.16850448 36852.66928221 36856.49943675\n",
      "   36926.77747335]\n",
      "  [33346.14827749 32870.12194672 33077.51386522 35180.78565334\n",
      "   36598.52570102 34325.48808748 34457.07090236 34742.2821507\n",
      "   34514.26219151 34206.21634976 36681.85804937 37946.73690795\n",
      "   37443.7209959 ]\n",
      "  [35488.17968397 35356.64298825 35479.88907939 34036.45809713\n",
      "   34312.86952303 35091.00122611 35727.80288035 35096.22331875\n",
      "   34430.62570922 33285.27872912 33555.37571572 36177.35322066\n",
      "   37330.57084841]\n",
      "  [33790.97586542 34942.12432934 35187.36779304 34486.16212155\n",
      "   34330.8406199  34940.18788558 35383.51408524 35139.86348596\n",
      "   35817.28663245 35545.81008642 35110.81079674 36125.58545056\n",
      "   34703.10747218]]\n",
      "\n",
      " [[31287.51475286 30952.87289835 30046.95458577 29233.25611492\n",
      "   28041.18367502 27418.12804882 27419.3992198  27170.79096818\n",
      "   26568.4627526  26884.5427887  26543.75648557 19728.6945636\n",
      "   23131.19903434]\n",
      "  [29530.54287502 30126.82293323 29671.07436494 28375.23614256\n",
      "   27744.40892982 27062.53319408 26888.4044634  26592.92403719\n",
      "   26264.25869884 26221.51874279 25206.09394109 23600.33611207\n",
      "   22293.70953276]\n",
      "  [31214.57939948 30068.76976675 29173.55675142 28421.04745705\n",
      "   27582.06344639 26823.64923817 27026.32324661 27095.51842605\n",
      "   26192.59228271 26133.23642163 25265.92667402 24951.19782754\n",
      "   24773.18641397]\n",
      "  [30244.16243065 30461.439121   28592.27282243 27710.59280043\n",
      "   27123.21587296 26451.88367487 26650.39675229 26015.95343255\n",
      "   24797.73031695 24987.90547104 25037.68975892 24401.14426726\n",
      "   24452.72505292]\n",
      "  [26180.17147637 25632.83736519 25859.70134661 26761.2037799\n",
      "   27177.52989452 25281.14917175 23991.80512402 23148.38745609\n",
      "   22882.79341176 23869.3746896  24516.31956711 24239.21944375\n",
      "   24010.06991925]\n",
      "  [27984.25437573 26926.21601314 26439.25389815 27435.34731846\n",
      "   27828.52262634 25421.72584386 24850.72411769 24387.57753207\n",
      "   23777.93994001 23332.32575354 24783.19634164 25391.7021002\n",
      "   24810.77049708]\n",
      "  [30588.98107089 29740.17626594 29112.30674526 27227.58474414\n",
      "   26758.57235444 26666.53270429 26443.13616038 25282.39490343\n",
      "   24338.36899933 23284.78088418 23238.61661633 24816.41269837\n",
      "   25364.06116305]\n",
      "  [29919.183605   30186.58048842 29646.28086057 28323.53805632\n",
      "   27477.94761169 27247.61521498 26874.82548777 25981.02861936\n",
      "   25982.82001396 25506.26440808 24926.88523572 25387.97951949\n",
      "   24139.5432634 ]]]\n"
     ]
    }
   ],
   "source": [
    "result = client.exec(HeatIndex, [argT, argP, argH])\n",
    "print(result)"
   ]
  },
  {
   "cell_type": "code",
   "execution_count": null,
   "id": "d7a4338b-5541-40ab-bedb-0afafd602d1a",
   "metadata": {},
   "outputs": [],
   "source": []
  }
 ],
 "metadata": {
  "kernelspec": {
   "display_name": "Python 3 (ipykernel)",
   "language": "python",
   "name": "python3"
  },
  "language_info": {
   "codemirror_mode": {
    "name": "ipython",
    "version": 3
   },
   "file_extension": ".py",
   "mimetype": "text/x-python",
   "name": "python",
   "nbconvert_exporter": "python",
   "pygments_lexer": "ipython3",
   "version": "3.10.14"
  }
 },
 "nbformat": 4,
 "nbformat_minor": 5
}
